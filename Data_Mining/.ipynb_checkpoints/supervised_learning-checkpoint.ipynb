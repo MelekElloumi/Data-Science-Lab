{
 "cells": [
  {
   "cell_type": "code",
   "execution_count": 1,
   "id": "e63161b6-aaa0-481e-b396-0f133a8cc7ac",
   "metadata": {},
   "outputs": [],
   "source": [
    "from itertools import cycle\n",
    "import numpy as np\n",
    "import random\n",
    "from sklearn import naive_bayes\n",
    "from sklearn import datasets\n",
    "from sklearn.tree import DecisionTreeClassifier\n",
    "from sklearn.model_selection import cross_val_score\n",
    "from sklearn.model_selection import train_test_split\n",
    "from collections import Counter\n",
    "import pylab as pl"
   ]
  },
  {
   "cell_type": "code",
   "execution_count": 13,
   "id": "2e212763-e982-4f98-a0f0-2e6371239de2",
   "metadata": {},
   "outputs": [],
   "source": [
    "def plot_2D(data, target, target_names):\n",
    "    colors = cycle('rgbcmykw') # cycle de couleurs\n",
    "    target_ids = range(len(target_names))\n",
    "    pl.figure()\n",
    "    for i, c, label in zip(target_ids, colors, target_names):\n",
    "        pl.scatter(data[target == i, 2], data[target == i, 3], c=c, label=label)\n",
    "    pl.legend()\n",
    "    pl.show()"
   ]
  },
  {
   "cell_type": "markdown",
   "id": "6f1eef50-50a4-4464-898b-dc77b8a97f5c",
   "metadata": {},
   "source": [
    "# Dataset Iris\n",
    "We'll be using different supervised learning algorithms on this dataset and evalute their performances. It contains the caracteristics of 3 types of iris flowers and we want to build a model that classifies new entries."
   ]
  },
  {
   "cell_type": "code",
   "execution_count": 3,
   "id": "8f847461-5ba3-440d-899a-32ed4efda72f",
   "metadata": {},
   "outputs": [
    {
     "name": "stdout",
     "output_type": "stream",
     "text": [
      "[[5.1 3.5 1.4 0.2]\n",
      " [4.9 3.  1.4 0.2]\n",
      " [4.7 3.2 1.3 0.2]\n",
      " [4.6 3.1 1.5 0.2]\n",
      " [5.  3.6 1.4 0.2]\n",
      " [5.4 3.9 1.7 0.4]\n",
      " [4.6 3.4 1.4 0.3]\n",
      " [5.  3.4 1.5 0.2]\n",
      " [4.4 2.9 1.4 0.2]\n",
      " [4.9 3.1 1.5 0.1]\n",
      " [5.4 3.7 1.5 0.2]\n",
      " [4.8 3.4 1.6 0.2]\n",
      " [4.8 3.  1.4 0.1]\n",
      " [4.3 3.  1.1 0.1]\n",
      " [5.8 4.  1.2 0.2]\n",
      " [5.7 4.4 1.5 0.4]\n",
      " [5.4 3.9 1.3 0.4]\n",
      " [5.1 3.5 1.4 0.3]\n",
      " [5.7 3.8 1.7 0.3]\n",
      " [5.1 3.8 1.5 0.3]\n",
      " [5.4 3.4 1.7 0.2]\n",
      " [5.1 3.7 1.5 0.4]\n",
      " [4.6 3.6 1.  0.2]\n",
      " [5.1 3.3 1.7 0.5]\n",
      " [4.8 3.4 1.9 0.2]\n",
      " [5.  3.  1.6 0.2]\n",
      " [5.  3.4 1.6 0.4]\n",
      " [5.2 3.5 1.5 0.2]\n",
      " [5.2 3.4 1.4 0.2]\n",
      " [4.7 3.2 1.6 0.2]\n",
      " [4.8 3.1 1.6 0.2]\n",
      " [5.4 3.4 1.5 0.4]\n",
      " [5.2 4.1 1.5 0.1]\n",
      " [5.5 4.2 1.4 0.2]\n",
      " [4.9 3.1 1.5 0.2]\n",
      " [5.  3.2 1.2 0.2]\n",
      " [5.5 3.5 1.3 0.2]\n",
      " [4.9 3.6 1.4 0.1]\n",
      " [4.4 3.  1.3 0.2]\n",
      " [5.1 3.4 1.5 0.2]\n",
      " [5.  3.5 1.3 0.3]\n",
      " [4.5 2.3 1.3 0.3]\n",
      " [4.4 3.2 1.3 0.2]\n",
      " [5.  3.5 1.6 0.6]\n",
      " [5.1 3.8 1.9 0.4]\n",
      " [4.8 3.  1.4 0.3]\n",
      " [5.1 3.8 1.6 0.2]\n",
      " [4.6 3.2 1.4 0.2]\n",
      " [5.3 3.7 1.5 0.2]\n",
      " [5.  3.3 1.4 0.2]\n",
      " [7.  3.2 4.7 1.4]\n",
      " [6.4 3.2 4.5 1.5]\n",
      " [6.9 3.1 4.9 1.5]\n",
      " [5.5 2.3 4.  1.3]\n",
      " [6.5 2.8 4.6 1.5]\n",
      " [5.7 2.8 4.5 1.3]\n",
      " [6.3 3.3 4.7 1.6]\n",
      " [4.9 2.4 3.3 1. ]\n",
      " [6.6 2.9 4.6 1.3]\n",
      " [5.2 2.7 3.9 1.4]\n",
      " [5.  2.  3.5 1. ]\n",
      " [5.9 3.  4.2 1.5]\n",
      " [6.  2.2 4.  1. ]\n",
      " [6.1 2.9 4.7 1.4]\n",
      " [5.6 2.9 3.6 1.3]\n",
      " [6.7 3.1 4.4 1.4]\n",
      " [5.6 3.  4.5 1.5]\n",
      " [5.8 2.7 4.1 1. ]\n",
      " [6.2 2.2 4.5 1.5]\n",
      " [5.6 2.5 3.9 1.1]\n",
      " [5.9 3.2 4.8 1.8]\n",
      " [6.1 2.8 4.  1.3]\n",
      " [6.3 2.5 4.9 1.5]\n",
      " [6.1 2.8 4.7 1.2]\n",
      " [6.4 2.9 4.3 1.3]\n",
      " [6.6 3.  4.4 1.4]\n",
      " [6.8 2.8 4.8 1.4]\n",
      " [6.7 3.  5.  1.7]\n",
      " [6.  2.9 4.5 1.5]\n",
      " [5.7 2.6 3.5 1. ]\n",
      " [5.5 2.4 3.8 1.1]\n",
      " [5.5 2.4 3.7 1. ]\n",
      " [5.8 2.7 3.9 1.2]\n",
      " [6.  2.7 5.1 1.6]\n",
      " [5.4 3.  4.5 1.5]\n",
      " [6.  3.4 4.5 1.6]\n",
      " [6.7 3.1 4.7 1.5]\n",
      " [6.3 2.3 4.4 1.3]\n",
      " [5.6 3.  4.1 1.3]\n",
      " [5.5 2.5 4.  1.3]\n",
      " [5.5 2.6 4.4 1.2]\n",
      " [6.1 3.  4.6 1.4]\n",
      " [5.8 2.6 4.  1.2]\n",
      " [5.  2.3 3.3 1. ]\n",
      " [5.6 2.7 4.2 1.3]\n",
      " [5.7 3.  4.2 1.2]\n",
      " [5.7 2.9 4.2 1.3]\n",
      " [6.2 2.9 4.3 1.3]\n",
      " [5.1 2.5 3.  1.1]\n",
      " [5.7 2.8 4.1 1.3]\n",
      " [6.3 3.3 6.  2.5]\n",
      " [5.8 2.7 5.1 1.9]\n",
      " [7.1 3.  5.9 2.1]\n",
      " [6.3 2.9 5.6 1.8]\n",
      " [6.5 3.  5.8 2.2]\n",
      " [7.6 3.  6.6 2.1]\n",
      " [4.9 2.5 4.5 1.7]\n",
      " [7.3 2.9 6.3 1.8]\n",
      " [6.7 2.5 5.8 1.8]\n",
      " [7.2 3.6 6.1 2.5]\n",
      " [6.5 3.2 5.1 2. ]\n",
      " [6.4 2.7 5.3 1.9]\n",
      " [6.8 3.  5.5 2.1]\n",
      " [5.7 2.5 5.  2. ]\n",
      " [5.8 2.8 5.1 2.4]\n",
      " [6.4 3.2 5.3 2.3]\n",
      " [6.5 3.  5.5 1.8]\n",
      " [7.7 3.8 6.7 2.2]\n",
      " [7.7 2.6 6.9 2.3]\n",
      " [6.  2.2 5.  1.5]\n",
      " [6.9 3.2 5.7 2.3]\n",
      " [5.6 2.8 4.9 2. ]\n",
      " [7.7 2.8 6.7 2. ]\n",
      " [6.3 2.7 4.9 1.8]\n",
      " [6.7 3.3 5.7 2.1]\n",
      " [7.2 3.2 6.  1.8]\n",
      " [6.2 2.8 4.8 1.8]\n",
      " [6.1 3.  4.9 1.8]\n",
      " [6.4 2.8 5.6 2.1]\n",
      " [7.2 3.  5.8 1.6]\n",
      " [7.4 2.8 6.1 1.9]\n",
      " [7.9 3.8 6.4 2. ]\n",
      " [6.4 2.8 5.6 2.2]\n",
      " [6.3 2.8 5.1 1.5]\n",
      " [6.1 2.6 5.6 1.4]\n",
      " [7.7 3.  6.1 2.3]\n",
      " [6.3 3.4 5.6 2.4]\n",
      " [6.4 3.1 5.5 1.8]\n",
      " [6.  3.  4.8 1.8]\n",
      " [6.9 3.1 5.4 2.1]\n",
      " [6.7 3.1 5.6 2.4]\n",
      " [6.9 3.1 5.1 2.3]\n",
      " [5.8 2.7 5.1 1.9]\n",
      " [6.8 3.2 5.9 2.3]\n",
      " [6.7 3.3 5.7 2.5]\n",
      " [6.7 3.  5.2 2.3]\n",
      " [6.3 2.5 5.  1.9]\n",
      " [6.5 3.  5.2 2. ]\n",
      " [6.2 3.4 5.4 2.3]\n",
      " [5.9 3.  5.1 1.8]]\n",
      "[0 0 0 0 0 0 0 0 0 0 0 0 0 0 0 0 0 0 0 0 0 0 0 0 0 0 0 0 0 0 0 0 0 0 0 0 0\n",
      " 0 0 0 0 0 0 0 0 0 0 0 0 0 1 1 1 1 1 1 1 1 1 1 1 1 1 1 1 1 1 1 1 1 1 1 1 1\n",
      " 1 1 1 1 1 1 1 1 1 1 1 1 1 1 1 1 1 1 1 1 1 1 1 1 1 1 2 2 2 2 2 2 2 2 2 2 2\n",
      " 2 2 2 2 2 2 2 2 2 2 2 2 2 2 2 2 2 2 2 2 2 2 2 2 2 2 2 2 2 2 2 2 2 2 2 2 2\n",
      " 2 2]\n"
     ]
    }
   ],
   "source": [
    "irisData = datasets.load_iris()\n",
    "print(irisData.data)\n",
    "print(irisData.target)"
   ]
  },
  {
   "cell_type": "code",
   "execution_count": 4,
   "id": "8a724d85-544b-4cbd-bd95-62bd69d34cdf",
   "metadata": {},
   "outputs": [
    {
     "name": "stdout",
     "output_type": "stream",
     "text": [
      "['setosa' 'versicolor' 'virginica']\n",
      "['sepal length (cm)', 'sepal width (cm)', 'petal length (cm)', 'petal width (cm)']\n"
     ]
    }
   ],
   "source": [
    "print(irisData.target_names)\n",
    "print(irisData.feature_names)"
   ]
  },
  {
   "cell_type": "code",
   "execution_count": 7,
   "id": "8f81efda-1622-40c3-86f9-03cea3462ad5",
   "metadata": {},
   "outputs": [
    {
     "name": "stdout",
     "output_type": "stream",
     "text": [
      "Number of occurences of setosa is 50\n",
      "Number of occurences of versicolor is 50\n",
      "Number of occurences of virginica is 50\n"
     ]
    }
   ],
   "source": [
    "occur = Counter(irisData.target)\n",
    "for i in [0, 1, 2]:\n",
    "    print(\"Number of occurences of \" + irisData.target_names[i] + \" is \" + str(occur.get(i)))"
   ]
  },
  {
   "cell_type": "code",
   "execution_count": 11,
   "id": "1e84b723-97ea-4e9f-933a-7e3759b95f7e",
   "metadata": {},
   "outputs": [
    {
     "name": "stdout",
     "output_type": "stream",
     "text": [
      "32th element of dataset:\n",
      "sepal length (cm): 5.4\n",
      "sepal width (cm): 3.4\n",
      "petal length (cm): 1.5\n",
      "petal width (cm): 0.4\n",
      "Class: setosa\n"
     ]
    }
   ],
   "source": [
    "print(\"32th element of dataset:\")\n",
    "for i in range(0, len(irisData.feature_names)):\n",
    "    print(irisData.feature_names[i] + \": \" + str(irisData.data[31][i]))\n",
    "print(\"Class: \" + irisData.target_names[irisData.target[31]])"
   ]
  },
  {
   "cell_type": "code",
   "execution_count": 14,
   "id": "3c97fb66-5522-400c-9943-da6315e13091",
   "metadata": {},
   "outputs": [
    {
     "data": {
      "image/png": "[encoded data removed]",
      "text/plain": [
       "<Figure size 432x288 with 1 Axes>"
      ]
     },
     "metadata": {
      "needs_background": "light"
     },
     "output_type": "display_data"
    }
   ],
   "source": [
    "plot_2D(irisData.data, irisData.target, irisData.target_names)"
   ]
  },
  {
   "cell_type": "markdown",
   "id": "d7b0f9a0-40ec-4cf5-8764-51da00ec1eb7",
   "metadata": {},
   "source": [
    "# Naïve Bayes algorithm"
   ]
  },
  {
   "cell_type": "code",
   "execution_count": 16,
   "id": "b75ac9bb-88ff-4521-b1bd-e029faad7eea",
   "metadata": {},
   "outputs": [
    {
     "name": "stdout",
     "output_type": "stream",
     "text": [
      "[0]\n",
      "[2]\n",
      "[0 0 0 0 0 0 0 0 0 0 0 0 0 0 0 0 0 0 0 0 0 0 0 0 0 0 0 0 0 0 0 0 0 0 0 0 0\n",
      " 0 0 0 0 0 0 0 0 0 0 0 0 0 1 1 1 1 1 1 1 1 1 1 1 1 1 1 1 1 1 1 1 1 1 1 1 1\n",
      " 1 1 1 1 1 1 1 1 1 2 1 1 1 1 1 1 1 1 1 1 1 1 1 1 1 1 2 2 2 2 2 2 2 2 2 2 2\n",
      " 2 2 2 2 2 2 2 2 2 2 2 2 2 2 1 2 2 2 1 2 1 2 1 2 2 2 2 2 2 2 2 2 2 2 2 2 2\n",
      " 2 2]\n"
     ]
    }
   ],
   "source": [
    "nb = naive_bayes.MultinomialNB(fit_prior=True) \n",
    "nb.fit(irisData.data[:-1], irisData.target[:-1])\n",
    "#predicting some values\n",
    "p31 = nb.predict([irisData.data[31]])\n",
    "print(p31)\n",
    "plast = nb.predict([irisData.data[-1]])\n",
    "print(plast)\n",
    "p = nb.predict(irisData.data[:])\n",
    "print(p)"
   ]
  },
  {
   "cell_type": "markdown",
   "id": "2ee7aecc-93fc-4164-b7ad-dfbca98b73a9",
   "metadata": {},
   "source": [
    "### Training without split"
   ]
  },
  {
   "cell_type": "code",
   "execution_count": 18,
   "id": "0dfb090e-b9c4-4674-a406-339c1d536442",
   "metadata": {},
   "outputs": [
    {
     "name": "stdout",
     "output_type": "stream",
     "text": [
      "Errors:\n",
      "Method 1: 0.04666666666666667\n",
      "Method 2: 0.04666666666666667\n",
      "Method 3: 0.046666666666666634\n"
     ]
    }
   ],
   "source": [
    "nb = naive_bayes.MultinomialNB(fit_prior=True)\n",
    "irisData = datasets.load_iris()\n",
    "nb.fit(irisData.data[:], irisData.target[:])\n",
    "predictions = nb.predict(irisData.data[:])\n",
    "erreur = 0\n",
    "print(\"Errors:\")\n",
    "for i in range(len(irisData.target)):\n",
    "    if (predictions[i] != irisData.target[i]):\n",
    "        erreur = erreur + 1\n",
    "print(\"Method 1: \" + str(erreur / len(irisData.data)))\n",
    "\n",
    "# method 2 with P-Y\n",
    "print(\"Method 2: \" + str(np.count_nonzero(predictions - irisData.target) / len(irisData.data)))\n",
    "\n",
    "# method 3 with .score()\n",
    "print(\"Method 3: \" + str(1 - nb.score(irisData.data, irisData.target)))"
   ]
  },
  {
   "cell_type": "markdown",
   "id": "6c7339f6-1fa0-4ad8-a7dd-2668aabaa22b",
   "metadata": {},
   "source": [
    "### Training with split"
   ]
  },
  {
   "cell_type": "code",
   "execution_count": 19,
   "id": "eb99c126-cf1e-46ff-8970-92e01c0b8397",
   "metadata": {},
   "outputs": [],
   "source": [
    "def split(S):\n",
    "    cdata=list(zip(S.data,S.target))\n",
    "    random.shuffle(cdata)\n",
    "    dataS,targetS=zip(*cdata)\n",
    "    dataS1=list(dataS[:100])\n",
    "    dataS2=list(dataS[100:])\n",
    "    targetS1=list(targetS[:100])\n",
    "    targetS2=list(targetS[100:])\n",
    "    return [dataS1, targetS1, dataS2, targetS2]"
   ]
  },
  {
   "cell_type": "code",
   "execution_count": 25,
   "id": "7435dee6-f7d7-451f-bd32-e6594e229519",
   "metadata": {},
   "outputs": [
    {
     "name": "stdout",
     "output_type": "stream",
     "text": [
      "Error with split:\n",
      "38.0\n"
     ]
    }
   ],
   "source": [
    "def training_split(S, clf):\n",
    "    dt=split(S)\n",
    "    clf.fit(dt[0][:], dt[1][:])\n",
    "    predictions = clf.predict(dt[2][:])\n",
    "    return np.count_nonzero(predictions - dt[3]) / len(dt[2])*100\n",
    "\n",
    "print(\"Error with split:\")\n",
    "print(training_split(irisData,nb))"
   ]
  },
  {
   "cell_type": "code",
   "execution_count": 27,
   "id": "5c28fd1d-b028-42f0-92a8-f0f61a293241",
   "metadata": {},
   "outputs": [
    {
     "name": "stdout",
     "output_type": "stream",
     "text": [
      "Average Error for:\n",
      "t = 10, repetition 1 : 20.8%\n",
      "t = 10, repetition 2 : 17.8%\n",
      "t = 10, repetition 3 : 18.4%\n",
      "t = 10, repetition 4 : 17.2%\n",
      "t = 10, repetition 5 : 22.6%\n",
      "t = 10, repetition 6 : 21.8%\n",
      "t = 10, repetition 7 : 28.8%\n",
      "t = 10, repetition 8 : 25.2%\n",
      "t = 10, repetition 9 : 21.8%\n",
      "t = 10, repetition 10 : 14.6%\n",
      "t = 10, repetition 11 : 15.4%\n",
      "t = 10, repetition 12 : 28.2%\n",
      "t = 10, repetition 13 : 23.8%\n",
      "t = 10, repetition 14 : 15.2%\n",
      "t = 10, repetition 15 : 19.6%\n",
      "t = 10, repetition 16 : 18.6%\n",
      "t = 10, repetition 17 : 18.8%\n",
      "t = 10, repetition 18 : 21.8%\n",
      "t = 10, repetition 19 : 18.6%\n",
      "t = 10, repetition 20 : 24.0%\n",
      "t = 50, repetition 1 : 17.4%\n",
      "t = 50, repetition 2 : 21.68%\n",
      "t = 50, repetition 3 : 22.24%\n",
      "t = 50, repetition 4 : 21.2%\n",
      "t = 50, repetition 5 : 26.04%\n",
      "t = 50, repetition 6 : 21.56%\n",
      "t = 50, repetition 7 : 21.84%\n",
      "t = 50, repetition 8 : 21.48%\n",
      "t = 50, repetition 9 : 22.68%\n",
      "t = 50, repetition 10 : 21.12%\n",
      "t = 50, repetition 11 : 21.48%\n",
      "t = 50, repetition 12 : 20.6%\n",
      "t = 50, repetition 13 : 20.08%\n",
      "t = 50, repetition 14 : 19.56%\n",
      "t = 50, repetition 15 : 17.52%\n",
      "t = 50, repetition 16 : 20.36%\n",
      "t = 50, repetition 17 : 20.4%\n",
      "t = 50, repetition 18 : 20.04%\n",
      "t = 50, repetition 19 : 23.32%\n",
      "t = 50, repetition 20 : 21.64%\n",
      "t = 100, repetition 1 : 21.58%\n",
      "t = 100, repetition 2 : 18.5%\n",
      "t = 100, repetition 3 : 19.68%\n",
      "t = 100, repetition 4 : 17.96%\n",
      "t = 100, repetition 5 : 20.76%\n",
      "t = 100, repetition 6 : 20.62%\n",
      "t = 100, repetition 7 : 21.36%\n",
      "t = 100, repetition 8 : 20.22%\n",
      "t = 100, repetition 9 : 22.36%\n",
      "t = 100, repetition 10 : 21.26%\n",
      "t = 100, repetition 11 : 18.62%\n",
      "t = 100, repetition 12 : 21.88%\n",
      "t = 100, repetition 13 : 20.66%\n",
      "t = 100, repetition 14 : 20.02%\n",
      "t = 100, repetition 15 : 21.06%\n",
      "t = 100, repetition 16 : 21.08%\n",
      "t = 100, repetition 17 : 20.38%\n",
      "t = 100, repetition 18 : 19.72%\n",
      "t = 100, repetition 19 : 16.94%\n",
      "t = 100, repetition 20 : 21.24%\n",
      "t = 200, repetition 1 : 21.58%\n",
      "t = 200, repetition 2 : 20.06%\n",
      "t = 200, repetition 3 : 19.43%\n",
      "t = 200, repetition 4 : 21.62%\n",
      "t = 200, repetition 5 : 19.08%\n",
      "t = 200, repetition 6 : 20.07%\n",
      "t = 200, repetition 7 : 19.35%\n",
      "t = 200, repetition 8 : 19.54%\n",
      "t = 200, repetition 9 : 18.92%\n",
      "t = 200, repetition 10 : 19.54%\n",
      "t = 200, repetition 11 : 19.82%\n",
      "t = 200, repetition 12 : 18.42%\n",
      "t = 200, repetition 13 : 18.51%\n",
      "t = 200, repetition 14 : 21.59%\n",
      "t = 200, repetition 15 : 19.62%\n",
      "t = 200, repetition 16 : 21.96%\n",
      "t = 200, repetition 17 : 20.54%\n",
      "t = 200, repetition 18 : 19.27%\n",
      "t = 200, repetition 19 : 18.25%\n",
      "t = 200, repetition 20 : 19.34%\n",
      "t = 500, repetition 1 : 19.504%\n",
      "t = 500, repetition 2 : 20.28%\n",
      "t = 500, repetition 3 : 19.148%\n",
      "t = 500, repetition 4 : 21.34%\n",
      "t = 500, repetition 5 : 20.78%\n",
      "t = 500, repetition 6 : 20.324%\n",
      "t = 500, repetition 7 : 20.036%\n",
      "t = 500, repetition 8 : 20.964%\n",
      "t = 500, repetition 9 : 21.468%\n",
      "t = 500, repetition 10 : 20.04%\n",
      "t = 500, repetition 11 : 20.012%\n",
      "t = 500, repetition 12 : 19.672%\n",
      "t = 500, repetition 13 : 19.776%\n",
      "t = 500, repetition 14 : 20.688%\n",
      "t = 500, repetition 15 : 18.86%\n",
      "t = 500, repetition 16 : 20.56%\n",
      "t = 500, repetition 17 : 19.536%\n",
      "t = 500, repetition 18 : 21.34%\n",
      "t = 500, repetition 19 : 19.512%\n",
      "t = 500, repetition 20 : 20.428%\n",
      "t = 1000, repetition 1 : 20.466%\n",
      "t = 1000, repetition 2 : 19.998%\n",
      "t = 1000, repetition 3 : 19.826%\n",
      "t = 1000, repetition 4 : 20.446%\n",
      "t = 1000, repetition 5 : 20.258%\n",
      "t = 1000, repetition 6 : 21.148%\n",
      "t = 1000, repetition 7 : 20.088%\n",
      "t = 1000, repetition 8 : 20.446%\n",
      "t = 1000, repetition 9 : 20.012%\n",
      "t = 1000, repetition 10 : 20.146%\n",
      "t = 1000, repetition 11 : 20.46%\n",
      "t = 1000, repetition 12 : 20.19%\n",
      "t = 1000, repetition 13 : 19.942%\n",
      "t = 1000, repetition 14 : 19.858%\n",
      "t = 1000, repetition 15 : 19.82%\n",
      "t = 1000, repetition 16 : 19.708%\n",
      "t = 1000, repetition 17 : 19.962%\n",
      "t = 1000, repetition 18 : 19.58%\n",
      "t = 1000, repetition 19 : 21.164%\n",
      "t = 1000, repetition 20 : 20.212%\n"
     ]
    }
   ],
   "source": [
    "print(\"Average Error for:\")\n",
    "for t in [10, 50, 100, 200, 500, 1000]:\n",
    "    for j in range(0, 20):\n",
    "        moyenne = 0\n",
    "        for i in range(0, t):\n",
    "            moyenne += training_split(irisData, nb)\n",
    "        moyenne /= t\n",
    "        print(\"t = \" + str(t) + \", repetition \" + str(j + 1) + \" : \" + str(moyenne) + \"%\")"
   ]
  },
  {
   "cell_type": "code",
   "execution_count": 29,
   "id": "91d9b5d5-0c03-4e99-b4e3-5c4eb3099887",
   "metadata": {},
   "outputs": [
    {
     "name": "stdout",
     "output_type": "stream",
     "text": [
      "test_size = 0.1, repetition 1 : 6.666666666666667%\n",
      "test_size = 0.1, repetition 2 : 0.0%\n",
      "test_size = 0.1, repetition 3 : 33.33333333333333%\n",
      "test_size = 0.1, repetition 4 : 66.66666666666666%\n",
      "test_size = 0.1, repetition 5 : 6.666666666666667%\n",
      "test_size = 0.25, repetition 1 : 2.631578947368421%\n",
      "test_size = 0.25, repetition 2 : 5.263157894736842%\n",
      "test_size = 0.25, repetition 3 : 5.263157894736842%\n",
      "test_size = 0.25, repetition 4 : 2.631578947368421%\n",
      "test_size = 0.25, repetition 5 : 50.0%\n",
      "test_size = 0.33, repetition 1 : 4.0%\n",
      "test_size = 0.33, repetition 2 : 6.0%\n",
      "test_size = 0.33, repetition 3 : 46.0%\n",
      "test_size = 0.33, repetition 4 : 46.0%\n",
      "test_size = 0.33, repetition 5 : 24.0%\n",
      "test_size = 0.5, repetition 1 : 37.333333333333336%\n",
      "test_size = 0.5, repetition 2 : 14.666666666666666%\n",
      "test_size = 0.5, repetition 3 : 8.0%\n",
      "test_size = 0.5, repetition 4 : 28.000000000000004%\n",
      "test_size = 0.5, repetition 5 : 17.333333333333336%\n"
     ]
    }
   ],
   "source": [
    "for size in [0.1,0.25,0.33,0.5]:\n",
    "    for i in range(0,5):\n",
    "        dataS1,dataS2,targetS1,targetS2=train_test_split(irisData.data,irisData.target,test_size=size,shuffle=True)\n",
    "        nb.fit(dataS1[:],targetS1[:])\n",
    "        predictions = nb.predict(dataS2[:])\n",
    "        print(\"test_size = \" + str(size) + \", repetition \" +str(i+1)+\" : \"+ str(np.count_nonzero(predictions - targetS2) / len(dataS2)*100)+\"%\")\n"
   ]
  },
  {
   "cell_type": "markdown",
   "id": "dccf04d8-8ca8-493d-bc7b-e9a2a259c600",
   "metadata": {},
   "source": [
    "### Cross Validation"
   ]
  },
  {
   "cell_type": "code",
   "execution_count": 30,
   "id": "c4818247-7a6b-4e76-a31e-278c62f4ebdb",
   "metadata": {},
   "outputs": [
    {
     "name": "stdout",
     "output_type": "stream",
     "text": [
      "Cross Validation with 2 folds:\n",
      "[0.04       0.05333333]\n",
      "average: 0.04666666666666669\n",
      "\n",
      "Cross Validation with 3 folds:\n",
      "[0.04 0.08 0.04]\n",
      "average: 0.053333333333333344\n",
      "\n",
      "Cross Validation with 5 folds:\n",
      "[0.         0.03333333 0.1        0.1        0.        ]\n",
      "average: 0.046666666666666655\n",
      "\n",
      "Cross Validation with 8 folds:\n",
      "[0.         0.         0.05263158 0.10526316 0.10526316 0.15789474\n",
      " 0.         0.        ]\n",
      "average: 0.05263157894736843\n",
      "\n",
      "Cross Validation with 10 folds:\n",
      "[0.         0.         0.         0.06666667 0.13333333 0.06666667\n",
      " 0.2        0.         0.         0.        ]\n",
      "average: 0.046666666666666655\n",
      "\n"
     ]
    }
   ],
   "source": [
    "nb.fit(irisData.data[:], irisData.target[:])\n",
    "predictions = nb.predict(irisData.data[:])\n",
    "for fold in [2, 3, 5, 8, 10]:\n",
    "    cross =1 - cross_val_score(nb, irisData.data, irisData.target, cv=fold)\n",
    "    print(\"Cross Validation with \" + str(fold) + \" folds:\")\n",
    "    print(cross)\n",
    "    print(\"average: \" + str(cross.mean()))\n",
    "    print()\n",
    "\n"
   ]
  },
  {
   "cell_type": "markdown",
   "id": "3659cdf8-f4ae-43d9-b184-b1103857012f",
   "metadata": {},
   "source": [
    "# Decision Tree"
   ]
  },
  {
   "cell_type": "code",
   "execution_count": 34,
   "id": "794032bc-5ac6-442f-a48b-7f8435f75843",
   "metadata": {},
   "outputs": [
    {
     "name": "stdout",
     "output_type": "stream",
     "text": [
      "Average Error for:\n",
      "t = 10, repetition 1 : 5.0%\n",
      "t = 10, repetition 2 : 6.6%\n",
      "t = 10, repetition 3 : 5.8%\n",
      "t = 10, repetition 4 : 4.4%\n",
      "t = 10, repetition 5 : 4.6%\n",
      "t = 10, repetition 6 : 7.0%\n",
      "t = 10, repetition 7 : 6.0%\n",
      "t = 10, repetition 8 : 6.6%\n",
      "t = 10, repetition 9 : 4.4%\n",
      "t = 10, repetition 10 : 8.0%\n",
      "t = 10, repetition 11 : 6.0%\n",
      "t = 10, repetition 12 : 6.0%\n",
      "t = 10, repetition 13 : 5.8%\n",
      "t = 10, repetition 14 : 5.0%\n",
      "t = 10, repetition 15 : 5.8%\n",
      "t = 10, repetition 16 : 5.8%\n",
      "t = 10, repetition 17 : 7.2%\n",
      "t = 10, repetition 18 : 6.0%\n",
      "t = 10, repetition 19 : 5.0%\n",
      "t = 10, repetition 20 : 6.4%\n",
      "t = 50, repetition 1 : 5.32%\n",
      "t = 50, repetition 2 : 5.64%\n",
      "t = 50, repetition 3 : 5.44%\n",
      "t = 50, repetition 4 : 5.6%\n",
      "t = 50, repetition 5 : 5.96%\n",
      "t = 50, repetition 6 : 5.8%\n",
      "t = 50, repetition 7 : 5.4%\n",
      "t = 50, repetition 8 : 5.2%\n",
      "t = 50, repetition 9 : 4.76%\n",
      "t = 50, repetition 10 : 5.08%\n",
      "t = 50, repetition 11 : 5.4%\n",
      "t = 50, repetition 12 : 6.2%\n",
      "t = 50, repetition 13 : 5.32%\n",
      "t = 50, repetition 14 : 5.36%\n",
      "t = 50, repetition 15 : 5.36%\n",
      "t = 50, repetition 16 : 4.48%\n",
      "t = 50, repetition 17 : 5.4%\n",
      "t = 50, repetition 18 : 5.4%\n",
      "t = 50, repetition 19 : 6.28%\n",
      "t = 50, repetition 20 : 5.16%\n",
      "t = 100, repetition 1 : 5.52%\n",
      "t = 100, repetition 2 : 5.68%\n",
      "t = 100, repetition 3 : 5.5%\n",
      "t = 100, repetition 4 : 5.22%\n",
      "t = 100, repetition 5 : 5.6%\n",
      "t = 100, repetition 6 : 5.72%\n",
      "t = 100, repetition 7 : 5.42%\n",
      "t = 100, repetition 8 : 5.34%\n",
      "t = 100, repetition 9 : 5.42%\n",
      "t = 100, repetition 10 : 5.38%\n",
      "t = 100, repetition 11 : 5.72%\n",
      "t = 100, repetition 12 : 5.54%\n",
      "t = 100, repetition 13 : 5.8%\n",
      "t = 100, repetition 14 : 5.86%\n",
      "t = 100, repetition 15 : 5.52%\n",
      "t = 100, repetition 16 : 5.16%\n",
      "t = 100, repetition 17 : 5.02%\n",
      "t = 100, repetition 18 : 5.52%\n",
      "t = 100, repetition 19 : 5.8%\n",
      "t = 100, repetition 20 : 5.82%\n",
      "t = 200, repetition 1 : 5.51%\n",
      "t = 200, repetition 2 : 5.25%\n",
      "t = 200, repetition 3 : 5.24%\n",
      "t = 200, repetition 4 : 5.17%\n",
      "t = 200, repetition 5 : 5.67%\n",
      "t = 200, repetition 6 : 5.02%\n",
      "t = 200, repetition 7 : 5.43%\n",
      "t = 200, repetition 8 : 5.92%\n",
      "t = 200, repetition 9 : 5.48%\n",
      "t = 200, repetition 10 : 5.39%\n",
      "t = 200, repetition 11 : 5.33%\n",
      "t = 200, repetition 12 : 5.49%\n",
      "t = 200, repetition 13 : 5.31%\n",
      "t = 200, repetition 14 : 5.5%\n",
      "t = 200, repetition 15 : 5.05%\n",
      "t = 200, repetition 16 : 5.1%\n",
      "t = 200, repetition 17 : 5.69%\n",
      "t = 200, repetition 18 : 5.44%\n",
      "t = 200, repetition 19 : 5.17%\n",
      "t = 200, repetition 20 : 5.65%\n",
      "t = 500, repetition 1 : 5.432%\n",
      "t = 500, repetition 2 : 5.316%\n",
      "t = 500, repetition 3 : 5.424%\n",
      "t = 500, repetition 4 : 5.368%\n",
      "t = 500, repetition 5 : 5.512%\n",
      "t = 500, repetition 6 : 5.468%\n",
      "t = 500, repetition 7 : 5.64%\n",
      "t = 500, repetition 8 : 5.428%\n",
      "t = 500, repetition 9 : 5.576%\n",
      "t = 500, repetition 10 : 5.648%\n",
      "t = 500, repetition 11 : 5.412%\n",
      "t = 500, repetition 12 : 5.54%\n",
      "t = 500, repetition 13 : 5.416%\n",
      "t = 500, repetition 14 : 5.444%\n",
      "t = 500, repetition 15 : 5.544%\n",
      "t = 500, repetition 16 : 5.352%\n",
      "t = 500, repetition 17 : 5.34%\n",
      "t = 500, repetition 18 : 5.444%\n",
      "t = 500, repetition 19 : 5.34%\n",
      "t = 500, repetition 20 : 5.072%\n",
      "t = 1000, repetition 1 : 5.49%\n",
      "t = 1000, repetition 2 : 5.546%\n",
      "t = 1000, repetition 3 : 5.468%\n",
      "t = 1000, repetition 4 : 5.462%\n",
      "t = 1000, repetition 5 : 5.562%\n",
      "t = 1000, repetition 6 : 5.464%\n",
      "t = 1000, repetition 7 : 5.316%\n",
      "t = 1000, repetition 8 : 5.472%\n",
      "t = 1000, repetition 9 : 5.562%\n",
      "t = 1000, repetition 10 : 5.324%\n",
      "t = 1000, repetition 11 : 5.538%\n",
      "t = 1000, repetition 12 : 5.25%\n",
      "t = 1000, repetition 13 : 5.67%\n",
      "t = 1000, repetition 14 : 5.568%\n",
      "t = 1000, repetition 15 : 5.484%\n",
      "t = 1000, repetition 16 : 5.502%\n",
      "t = 1000, repetition 17 : 5.578%\n",
      "t = 1000, repetition 18 : 5.646%\n",
      "t = 1000, repetition 19 : 5.306%\n",
      "t = 1000, repetition 20 : 5.416%\n"
     ]
    }
   ],
   "source": [
    "dt = DecisionTreeClassifier()\n",
    "dt.fit(irisData.data[:], irisData.target[:])\n",
    "predictions = dt.predict(irisData.data[:])\n",
    "\n",
    "print(\"Average Error for:\")\n",
    "for t in [10, 50, 100, 200, 500, 1000]:\n",
    "    for j in range(0, 20):\n",
    "        moyenne = 0\n",
    "        for i in range(0, t):\n",
    "            moyenne += training_split(irisData, dt)\n",
    "        moyenne /= t\n",
    "        print(\"t = \" + str(t) + \", repetition \" + str(j + 1) + \" : \" + str(moyenne) + \"%\")"
   ]
  },
  {
   "cell_type": "code",
   "execution_count": null,
   "id": "87c69c0d-5fc8-4106-b194-223e98434276",
   "metadata": {},
   "outputs": [],
   "source": []
  }
 ],
 "metadata": {
  "kernelspec": {
   "display_name": "Python 3 (ipykernel)",
   "language": "python",
   "name": "python3"
  },
  "language_info": {
   "codemirror_mode": {
    "name": "ipython",
    "version": 3
   },
   "file_extension": ".py",
   "mimetype": "text/x-python",
   "name": "python",
   "nbconvert_exporter": "python",
   "pygments_lexer": "ipython3",
   "version": "3.9.7"
  }
 },
 "nbformat": 4,
 "nbformat_minor": 5
}
