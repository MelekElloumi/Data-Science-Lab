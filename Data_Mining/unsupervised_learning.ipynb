{
 "cells": [
  {
   "cell_type": "code",
   "execution_count": 4,
   "metadata": {
    "_cell_guid": "b1076dfc-b9ad-4769-8c92-a6c4dae69d19",
    "_uuid": "8f2839f25d086af736a60e9eeb907d3b93b6e0e5"
   },
   "outputs": [],
   "source": [
    "import matplotlib.pyplot as plt\n",
    "import numpy as np\n",
    "from sklearn import cluster\n",
    "import pandas as pd\n",
    "from sklearn import metrics\n",
    "from scipy.cluster.hierarchy import dendrogram, linkage, fcluster\n",
    "from sklearn.decomposition import PCA\n",
    "from sklearn.cluster import AgglomerativeClustering\n",
    "from pandas.plotting import scatter_matrix"
   ]
  },
  {
   "cell_type": "markdown",
   "metadata": {
    "tags": []
   },
   "source": [
    "# Dataset Fromage\n",
    "We'll be using different unsupervised learning algorithms on this dataset. It contains the composition of 29 types of cheese and we want to divide them into clusters."
   ]
  },
  {
   "cell_type": "code",
   "execution_count": 5,
   "metadata": {},
   "outputs": [
    {
     "name": "stdout",
     "output_type": "stream",
     "text": [
      "         calories      sodium     calcium    lipides     retinol    folates  \\\n",
      "count   29.000000   29.000000   29.000000  29.000000   29.000000  29.000000   \n",
      "mean   300.034483  210.086207  185.734483  24.158621   67.562069  13.010345   \n",
      "std     91.914356  108.678923   72.528882   8.129642   24.163098  11.723339   \n",
      "min     70.000000   22.000000   72.600000   3.400000   37.100000   1.200000   \n",
      "25%    292.000000  140.000000  132.900000  23.400000   51.600000   4.900000   \n",
      "50%    321.000000  223.000000  202.300000  26.300000   62.300000   6.400000   \n",
      "75%    355.000000  276.000000  220.500000  29.100000   76.400000  21.100000   \n",
      "max    406.000000  432.000000  334.600000  33.300000  150.500000  36.400000   \n",
      "\n",
      "       proteines  cholesterol  magnesium  \n",
      "count  29.000000    29.000000  29.000000  \n",
      "mean   20.168966    74.586207  26.965517  \n",
      "std     6.959788    28.245755  11.318388  \n",
      "min     4.100000    10.000000  10.000000  \n",
      "25%    17.800000    70.000000  20.000000  \n",
      "50%    21.000000    80.000000  26.000000  \n",
      "75%    23.400000    90.000000  30.000000  \n",
      "max    35.700000   120.000000  51.000000  \n"
     ]
    }
   ],
   "source": [
    "fromage=pd.read_table(r\"fromage.txt\",sep=\"\\t\",header=0,index_col=0)\n",
    "print(fromage.describe())"
   ]
  },
  {
   "cell_type": "code",
   "execution_count": 15,
   "metadata": {},
   "outputs": [],
   "source": [
    "#scatter_matrix(fromage, figsize=(9,9))"
   ]
  },
  {
   "cell_type": "markdown",
   "metadata": {},
   "source": [
    "# 1-K-means method (4 clusters)"
   ]
  },
  {
   "cell_type": "code",
   "execution_count": 18,
   "metadata": {},
   "outputs": [],
   "source": [
    "np.random.seed(0)\n",
    "kmeans = cluster.KMeans(n_clusters=4)\n",
    "np.random.seed(0)\n",
    "kmeans = cluster.KMeans(n_clusters=4)\n",
    "kmeans.fit(fromage)\n",
    "idk = np.argsort(kmeans.labels_)"
   ]
  },
  {
   "cell_type": "code",
   "execution_count": 19,
   "metadata": {},
   "outputs": [
    {
     "name": "stdout",
     "output_type": "stream",
     "text": [
      "The attributes of the centers:\n",
      "[[297.85714286 239.78571429 103.84285714  24.91428571  83.92857143\n",
      "   23.05714286  18.97142857  71.42857143  21.71428571]\n",
      " [363.875      146.125      257.025       29.05        63.6\n",
      "    3.8625      26.5625      96.25        38.875     ]\n",
      " [101.75        44.75       133.75         6.275       55.15\n",
      "   16.475        7.2         18.25        11.25      ]\n",
      " [329.8        306.6        206.82        26.87        64.24\n",
      "   11.91        21.08        82.          27.4       ]]\n"
     ]
    }
   ],
   "source": [
    "print(\"The attributes of the centers:\")\n",
    "print(kmeans.cluster_centers_)"
   ]
  },
  {
   "cell_type": "code",
   "execution_count": 22,
   "metadata": {},
   "outputs": [
    {
     "name": "stdout",
     "output_type": "stream",
     "text": [
      "             Fromages\n",
      "0         CarredelEst\n",
      "0                Tome\n",
      "0         PontlEveque\n",
      "0           Chabichou\n",
      "0            Chaource\n",
      "0         Coulomniers\n",
      "0  Fr.chevrepatemolle\n",
      "1            Beaufort\n",
      "1         SaintPaulin\n",
      "1             Cheddar\n",
      "1               Comte\n",
      "1                Edam\n",
      "1            Emmental\n",
      "1            Vacherin\n",
      "1            Parmesan\n",
      "2       Petitsuisse40\n",
      "2  Yaourtlaitent.nat.\n",
      "2      Fr.frais20nat.\n",
      "2      Fr.frais40nat.\n",
      "3           Maroilles\n",
      "3             Morbier\n",
      "3              Cantal\n",
      "3           Camembert\n",
      "3            Pyrenees\n",
      "3           Reblochon\n",
      "3          Rocquefort\n",
      "3                Bleu\n",
      "3             Babybel\n",
      "3         Fr.fondu.45\n",
      "[[123.59715669 285.36163076 384.27301005 145.46927992]\n",
      " [110.54651897 118.43379084 303.10311983  71.72681089]\n",
      " [235.25665316  56.72603293 349.91323389 218.1879268 ]\n",
      " [159.09984736 200.30401971 393.76898843  45.60922494]\n",
      " [141.19170858 210.31138298 332.43471728  84.66051854]\n",
      " [180.75982487 111.73150994 371.97076666  86.99931839]\n",
      " [ 72.0404549  182.80599775 298.65300308 170.2611917 ]\n",
      " [ 57.86280572 204.98823213 311.48990553 105.53037193]\n",
      " [156.41570984  92.26223665 348.48685233 159.88151676]\n",
      " [224.31195752  79.32509258 333.83554522 230.88643399]\n",
      " [ 39.94716153 204.4018782  285.29211565 155.61953412]\n",
      " [197.13338124  43.74211715 293.81905359 172.55995306]\n",
      " [289.57992728 102.59674855 343.1669947  273.3780741 ]\n",
      " [144.41931015 265.24828993 195.86579908 252.80069897]\n",
      " [164.74401355 271.72958122 400.47054979 101.45152241]\n",
      " [307.24796873 336.96303256  27.57918146 378.20198492]\n",
      " [286.92623741 330.65941362  48.43507252 376.38946771]\n",
      " [163.69886115 169.20512053 379.74839203  39.80348477]\n",
      " [137.46307556 146.31641334 360.87135     31.87791398]\n",
      " [247.92574637 127.37007228 405.05415842 157.0268493 ]\n",
      " [275.48594208 322.76561591  73.02996816 370.72406639]\n",
      " [ 66.39975258 145.61200264 273.9400961  103.74546448]\n",
      " [103.21034693 118.1602421  327.69454718  85.09362726]\n",
      " [106.4868939  149.56115075 323.02206001  41.96502591]\n",
      " [215.62761551 302.57210349 480.78906108 141.69363218]\n",
      " [163.61948015  93.47945128 289.74900561 120.31124386]\n",
      " [ 44.67517687 176.06769384 309.5039923   98.83002277]\n",
      " [158.9611408   63.47704556 263.14012664 168.16769428]\n",
      " [304.65582689 316.6232269  101.24362326 346.9503587 ]]\n"
     ]
    }
   ],
   "source": [
    "print(pd.DataFrame(fromage.index[idk], kmeans.labels_[idk]))\n",
    "print(kmeans.transform(fromage))"
   ]
  },
  {
   "cell_type": "markdown",
   "metadata": {},
   "source": [
    "### Silhouette metric for different numbers of clusters"
   ]
  },
  {
   "cell_type": "code",
   "execution_count": 24,
   "metadata": {},
   "outputs": [
    {
     "name": "stdout",
     "output_type": "stream",
     "text": [
      "List of silouhette metric:\n",
      "[0.50681355 0.37299771 0.3369907  0.35737616 0.30111135 0.29565348\n",
      " 0.27199767 0.25018884 0.26957569]\n"
     ]
    },
    {
     "data": {
      "image/png": "[encoded data removed]",
      "text/plain": [
       "<Figure size 432x288 with 1 Axes>"
      ]
     },
     "metadata": {
      "needs_background": "light"
     },
     "output_type": "display_data"
    }
   ],
   "source": [
    "res = np.arange(9, dtype=\"double\")\n",
    "for k in np.arange(9):\n",
    "    km = cluster.KMeans(n_clusters=k + 2)\n",
    "    km.fit(fromage)\n",
    "    res[k] = metrics.silhouette_score(fromage, km.labels_)\n",
    "print(\"List of silouhette metric:\")\n",
    "print(res)\n",
    "plt.title(\"silhouette\")\n",
    "plt.xlabel(\"# of clusters\")\n",
    "plt.plot(np.arange(2, 11, 1), (res))\n",
    "plt.show()"
   ]
  },
  {
   "cell_type": "markdown",
   "metadata": {},
   "source": [
    "We conclude that the best number of clusters is 2 (0.5 silouhette value)"
   ]
  },
  {
   "cell_type": "markdown",
   "metadata": {},
   "source": [
    "# 2-CAH Method"
   ]
  },
  {
   "cell_type": "code",
   "execution_count": 25,
   "metadata": {},
   "outputs": [
    {
     "data": {
      "image/png": "[encoded data removed]",
      "text/plain": [
       "<Figure size 432x288 with 1 Axes>"
      ]
     },
     "metadata": {
      "needs_background": "light"
     },
     "output_type": "display_data"
    },
    {
     "name": "stdout",
     "output_type": "stream",
     "text": [
      "cheese with their classes\n",
      "             Fromages\n",
      "1  Yaourtlaitent.nat.\n",
      "1       Petitsuisse40\n",
      "1      Fr.frais40nat.\n",
      "1      Fr.frais20nat.\n",
      "2         SaintPaulin\n",
      "2            Beaufort\n",
      "2              Cantal\n",
      "2            Parmesan\n",
      "2             Cheddar\n",
      "2               Comte\n",
      "2                Edam\n",
      "2            Emmental\n",
      "2            Vacherin\n",
      "3          Rocquefort\n",
      "3             Morbier\n",
      "3           Maroilles\n",
      "3         CarredelEst\n",
      "3           Camembert\n",
      "3                Bleu\n",
      "3         Fr.fondu.45\n",
      "4         Coulomniers\n",
      "4            Chaource\n",
      "4           Chabichou\n",
      "4         PontlEveque\n",
      "4            Pyrenees\n",
      "4           Reblochon\n",
      "4             Babybel\n",
      "4                Tome\n",
      "4  Fr.chevrepatemolle\n"
     ]
    }
   ],
   "source": [
    "Z = linkage(fromage, method='ward', metric='euclidean')\n",
    "plt.title(\"CAH\")\n",
    "plt.title('CAH with 4 classes materialization')\n",
    "dendrogram(Z, labels=fromage.index, orientation='left', color_threshold=255)\n",
    "plt.show()\n",
    "groupes_cah = fcluster(Z, t=255, criterion='distance')\n",
    "idg = np.argsort(groupes_cah)\n",
    "print(\"cheese with their classes\")\n",
    "print(pd.DataFrame(fromage.index[idg], groupes_cah[idg]))"
   ]
  },
  {
   "cell_type": "markdown",
   "metadata": {},
   "source": [
    "### Comparision with Kmeans by crossing results"
   ]
  },
  {
   "cell_type": "code",
   "execution_count": 10,
   "metadata": {},
   "outputs": [
    {
     "name": "stdout",
     "output_type": "stream",
     "text": [
      "col_0  0  1  2  3\n",
      "row_0            \n",
      "1      0  0  4  0\n",
      "2      1  8  0  0\n",
      "3      6  0  0  1\n",
      "4      3  0  0  6\n"
     ]
    }
   ],
   "source": [
    "kmeans = cluster.KMeans(n_clusters=4)\n",
    "kmeans.fit(fromage)\n",
    "print(pd.crosstab(groupes_cah, kmeans.labels_))"
   ]
  },
  {
   "cell_type": "markdown",
   "metadata": {
    "tags": []
   },
   "source": [
    "# 3-PCA Method"
   ]
  },
  {
   "cell_type": "code",
   "execution_count": 11,
   "metadata": {},
   "outputs": [
    {
     "data": {
      "image/png": "[encoded data removed]",
      "text/plain": [
       "<Figure size 432x288 with 1 Axes>"
      ]
     },
     "metadata": {
      "needs_background": "light"
     },
     "output_type": "display_data"
    }
   ],
   "source": [
    "kmeans = cluster.KMeans(n_clusters=4)\n",
    "kmeans.fit(fromage)\n",
    "acp = PCA(n_components=4).fit_transform(fromage)\n",
    "for couleur, k in zip(['red', 'blue', 'lawngreen', 'aqua'], [0, 1, 2, 3]):\n",
    "    plt.scatter(acp[km.labels_ == k, 0], acp[km.labels_ == k, 1], c=couleur)\n",
    "plt.show()"
   ]
  },
  {
   "cell_type": "markdown",
   "metadata": {
    "tags": []
   },
   "source": [
    "# Agglomerative Clustering Method"
   ]
  },
  {
   "cell_type": "code",
   "execution_count": 26,
   "metadata": {
    "tags": []
   },
   "outputs": [
    {
     "name": "stdout",
     "output_type": "stream",
     "text": [
      "             Fromages\n",
      "0         SaintPaulin\n",
      "0            Beaufort\n",
      "0            Parmesan\n",
      "0              Cantal\n",
      "0             Cheddar\n",
      "0               Comte\n",
      "0            Vacherin\n",
      "0                Edam\n",
      "0            Emmental\n",
      "1         CarredelEst\n",
      "1          Rocquefort\n",
      "1             Morbier\n",
      "1           Maroilles\n",
      "1         Fr.fondu.45\n",
      "1           Camembert\n",
      "1                Bleu\n",
      "2         Coulomniers\n",
      "2            Chaource\n",
      "2           Chabichou\n",
      "2         PontlEveque\n",
      "2            Pyrenees\n",
      "2           Reblochon\n",
      "2             Babybel\n",
      "2                Tome\n",
      "2  Fr.chevrepatemolle\n",
      "3      Fr.frais20nat.\n",
      "3      Fr.frais40nat.\n",
      "3       Petitsuisse40\n",
      "3  Yaourtlaitent.nat.\n",
      "col_0  0  1  2  3\n",
      "row_0            \n",
      "0      0  8  0  1\n",
      "1      1  0  0  6\n",
      "2      6  0  0  3\n",
      "3      0  0  4  0\n",
      "silouhette kmeans:0.33699070417188665\n",
      "silouhette agglomerativeClustering:0.31556786198229136\n"
     ]
    }
   ],
   "source": [
    "np.random.seed(0)\n",
    "kmeans = cluster.KMeans(n_clusters=4)\n",
    "kmeans.fit(fromage)\n",
    "ac = AgglomerativeClustering(n_clusters=4)\n",
    "ac.fit(fromage)\n",
    "idk = np.argsort(ac.labels_)\n",
    "print(pd.DataFrame(fromage.index[idk], ac.labels_[idk]))\n",
    "print(pd.crosstab(ac.labels_, kmeans.labels_))\n",
    "print(\"silouhette kmeans:\"+str(metrics.silhouette_score(fromage, kmeans.labels_)))\n",
    "print(\"silouhette agglomerativeClustering:\"+str(metrics.silhouette_score(fromage, ac.labels_)))"
   ]
  },
  {
   "cell_type": "markdown",
   "metadata": {},
   "source": [
    "# Divisive Clustering Method"
   ]
  },
  {
   "cell_type": "code",
   "execution_count": 33,
   "metadata": {},
   "outputs": [],
   "source": [
    "def divisive_recursion(C):\n",
    "    if(C.shape[0]==1):\n",
    "        return [C]\n",
    "    np.random.seed(0)\n",
    "    kmeans = cluster.KMeans(n_clusters=2)\n",
    "    kmeans.fit(C)\n",
    "    idA = [x for x in range(len(kmeans.labels_)) if kmeans.labels_[x] == 0]\n",
    "    idB = [x for x in range(len(kmeans.labels_)) if kmeans.labels_[x] == 1]\n",
    "    A=pd.DataFrame(C.iloc[idA])\n",
    "    B=pd.DataFrame(C.iloc[idB])\n",
    "    clusters=divisive_recursion(A)\n",
    "    clusters.extend(divisive_recursion(B))\n",
    "    return clusters"
   ]
  },
  {
   "cell_type": "code",
   "execution_count": 35,
   "metadata": {},
   "outputs": [],
   "source": [
    "def divisive():\n",
    "    fromage = pd.read_table(r\"fromage.txt\", sep=\"\\t\", header=0, index_col=0)\n",
    "    clusters=divisive_recursion(fromage)\n",
    "    print(clusters)"
   ]
  },
  {
   "cell_type": "code",
   "execution_count": 34,
   "metadata": {},
   "outputs": [
    {
     "name": "stdout",
     "output_type": "stream",
     "text": [
      "261\n",
      "29\n",
      "[          calories  sodium  calcium  lipides  retinol  folates  proteines  \\\n",
      "Fromages                                                                    \n",
      "Cantal         367   256.0    264.0     28.8     48.8      5.7       23.0   \n",
      "\n",
      "          cholesterol  magnesium  \n",
      "Fromages                          \n",
      "Cantal             90         30  ,           calories  sodium  calcium  lipides  retinol  folates  proteines  \\\n",
      "Fromages                                                                    \n",
      "Parmesan       381   240.0    334.6     27.5     90.0      5.2       35.7   \n",
      "\n",
      "          cholesterol  magnesium  \n",
      "Fromages                          \n",
      "Parmesan           80         46  ,              calories  sodium  calcium  lipides  retinol  folates  proteines  \\\n",
      "Fromages                                                                       \n",
      "SaintPaulin       298   205.0    261.0     23.3     60.4      6.7       23.3   \n",
      "\n",
      "             cholesterol  magnesium  \n",
      "Fromages                             \n",
      "SaintPaulin           70         26  ,           calories  sodium  calcium  lipides  retinol  folates  proteines  \\\n",
      "Fromages                                                                    \n",
      "Beaufort       401   112.0    259.4     33.3     54.9      1.2       26.6   \n",
      "\n",
      "          cholesterol  magnesium  \n",
      "Fromages                          \n",
      "Beaufort          120         41  ,           calories  sodium  calcium  lipides  retinol  folates  proteines  \\\n",
      "Fromages                                                                    \n",
      "Comte          399    92.0    220.5     32.4     55.9      1.3       29.2   \n",
      "\n",
      "          cholesterol  magnesium  \n",
      "Fromages                          \n",
      "Comte             120         51  ,           calories  sodium  calcium  lipides  retinol  folates  proteines  \\\n",
      "Fromages                                                                    \n",
      "Emmental       378    60.0    308.2     29.4     56.3      2.4       29.4   \n",
      "\n",
      "          cholesterol  magnesium  \n",
      "Fromages                          \n",
      "Emmental          110         45  ,           calories  sodium  calcium  lipides  retinol  folates  proteines  \\\n",
      "Fromages                                                                    \n",
      "Cheddar        406   172.0    182.3     32.5     76.4      4.9       26.0   \n",
      "\n",
      "          cholesterol  magnesium  \n",
      "Fromages                          \n",
      "Cheddar           110         28  ,           calories  sodium  calcium  lipides  retinol  folates  proteines  \\\n",
      "Fromages                                                                    \n",
      "Edam           327   148.0    272.2     24.7     65.7      5.5       24.7   \n",
      "\n",
      "          cholesterol  magnesium  \n",
      "Fromages                          \n",
      "Edam               80         44  ,           calories  sodium  calcium  lipides  retinol  folates  proteines  \\\n",
      "Fromages                                                                    \n",
      "Vacherin       321   140.0    218.0     29.3     49.2      3.7       17.6   \n",
      "\n",
      "          cholesterol  magnesium  \n",
      "Fromages                          \n",
      "Vacherin           80         30  ,           calories  sodium  calcium  lipides  retinol  folates  proteines  \\\n",
      "Fromages                                                                    \n",
      "Bleu           342   336.0    211.1     28.9     37.1     27.5       20.2   \n",
      "\n",
      "          cholesterol  magnesium  \n",
      "Fromages                          \n",
      "Bleu               90         27  ,            calories  sodium  calcium  lipides  retinol  folates  proteines  \\\n",
      "Fromages                                                                     \n",
      "Maroilles       338   311.0    236.7     29.1     46.7      3.6       20.4   \n",
      "\n",
      "           cholesterol  magnesium  \n",
      "Fromages                           \n",
      "Maroilles           90         40  ,           calories  sodium  calcium  lipides  retinol  folates  proteines  \\\n",
      "Fromages                                                                    \n",
      "Morbier        347   285.0    219.0     29.5     57.6      5.8       23.6   \n",
      "\n",
      "          cholesterol  magnesium  \n",
      "Fromages                          \n",
      "Morbier            80         30  ,            calories  sodium  calcium  lipides  retinol  folates  proteines  \\\n",
      "Fromages                                                                     \n",
      "Reblochon       309   272.0    202.3     24.6     73.1      8.1       19.7   \n",
      "\n",
      "           cholesterol  magnesium  \n",
      "Fromages                           \n",
      "Reblochon           80         30  ,            calories  sodium  calcium  lipides  retinol  folates  proteines  \\\n",
      "Fromages                                                                     \n",
      "Camembert       264   314.0    215.9     19.5    103.0     36.4       23.4   \n",
      "\n",
      "           cholesterol  magnesium  \n",
      "Fromages                           \n",
      "Camembert           60         20  ,              calories  sodium  calcium  lipides  retinol  folates  proteines  \\\n",
      "Fromages                                                                       \n",
      "CarredelEst       314   353.5     72.6     26.3     51.6     30.3       21.0   \n",
      "\n",
      "             cholesterol  magnesium  \n",
      "Fromages                             \n",
      "CarredelEst           70         20  ,              calories  sodium  calcium  lipides  retinol  folates  proteines  \\\n",
      "Fromages                                                                       \n",
      "Fr.fondu.45       292   390.0    168.5     24.0     77.4      5.5       16.8   \n",
      "\n",
      "             cholesterol  magnesium  \n",
      "Fromages                             \n",
      "Fr.fondu.45           70         20  ,             calories  sodium  calcium  lipides  retinol  folates  proteines  \\\n",
      "Fromages                                                                      \n",
      "Rocquefort       370   432.0    162.0     31.2     83.5     13.3       18.7   \n",
      "\n",
      "            cholesterol  magnesium  \n",
      "Fromages                            \n",
      "Rocquefort          100         25  ,              calories  sodium  calcium  lipides  retinol  folates  proteines  \\\n",
      "Fromages                                                                       \n",
      "PontlEveque       300   223.0    156.7     23.4     53.0      4.0       21.1   \n",
      "\n",
      "             cholesterol  magnesium  \n",
      "Fromages                             \n",
      "PontlEveque           70         22  ,           calories  sodium  calcium  lipides  retinol  folates  proteines  \\\n",
      "Fromages                                                                    \n",
      "Babybel        314   238.0    209.8     25.1     63.7      6.4       22.6   \n",
      "\n",
      "          cholesterol  magnesium  \n",
      "Fromages                          \n",
      "Babybel            70         27  ,           calories  sodium  calcium  lipides  retinol  folates  proteines  \\\n",
      "Fromages                                                                    \n",
      "Pyrenees       355   232.0    178.9     28.0     51.5      6.8       22.4   \n",
      "\n",
      "          cholesterol  magnesium  \n",
      "Fromages                          \n",
      "Pyrenees           90         25  ,           calories  sodium  calcium  lipides  retinol  folates  proteines  \\\n",
      "Fromages                                                                    \n",
      "Chaource       292   276.0    132.9     25.4    116.4     32.5       17.8   \n",
      "\n",
      "          cholesterol  magnesium  \n",
      "Fromages                          \n",
      "Chaource           70         25  ,           calories  sodium  calcium  lipides  retinol  folates  proteines  \\\n",
      "Fromages                                                                    \n",
      "Tome           321   252.0    125.5     27.3     62.3      6.2       21.8   \n",
      "\n",
      "          cholesterol  magnesium  \n",
      "Fromages                          \n",
      "Tome               80         20  ,            calories  sodium  calcium  lipides  retinol  folates  proteines  \\\n",
      "Fromages                                                                     \n",
      "Chabichou       344   192.0     87.2     27.9     90.1     36.3       19.5   \n",
      "\n",
      "           cholesterol  magnesium  \n",
      "Fromages                           \n",
      "Chabichou           80         36  ,              calories  sodium  calcium  lipides  retinol  folates  proteines  \\\n",
      "Fromages                                                                       \n",
      "Coulomniers       308   222.0     79.2     25.6     63.6     21.1       20.5   \n",
      "\n",
      "             cholesterol  magnesium  \n",
      "Fromages                             \n",
      "Coulomniers           80         13  ,                 calories  sodium  calcium  lipides  retinol  folates  \\\n",
      "Fromages                                                               \n",
      "Fr.frais20nat.        80    41.0    146.3      3.5     50.0     20.0   \n",
      "\n",
      "                proteines  cholesterol  magnesium  \n",
      "Fromages                                           \n",
      "Fr.frais20nat.        8.3           10         11  ,                     calories  sodium  calcium  lipides  retinol  folates  \\\n",
      "Fromages                                                                   \n",
      "Yaourtlaitent.nat.        70    91.0    215.7      3.4     42.9      2.9   \n",
      "\n",
      "                    proteines  cholesterol  magnesium  \n",
      "Fromages                                               \n",
      "Yaourtlaitent.nat.        4.1           13         14  ,                 calories  sodium  calcium  lipides  retinol  folates  \\\n",
      "Fromages                                                               \n",
      "Fr.frais40nat.       115    25.0     94.8      7.8     64.3     22.6   \n",
      "\n",
      "                proteines  cholesterol  magnesium  \n",
      "Fromages                                           \n",
      "Fr.frais40nat.        7.0           30         10  ,                calories  sodium  calcium  lipides  retinol  folates  \\\n",
      "Fromages                                                              \n",
      "Petitsuisse40       142    22.0     78.2     10.4     63.4     20.4   \n",
      "\n",
      "               proteines  cholesterol  magnesium  \n",
      "Fromages                                          \n",
      "Petitsuisse40        9.4           20         10  ,                     calories  sodium  calcium  lipides  retinol  folates  \\\n",
      "Fromages                                                                   \n",
      "Fr.chevrepatemolle       206   160.0     72.8     18.5    150.5     31.0   \n",
      "\n",
      "                    proteines  cholesterol  magnesium  \n",
      "Fromages                                               \n",
      "Fr.chevrepatemolle       11.1           50         16  ]\n"
     ]
    }
   ],
   "source": [
    "divisive()"
   ]
  },
  {
   "cell_type": "code",
   "execution_count": null,
   "metadata": {},
   "outputs": [],
   "source": []
  }
 ],
 "metadata": {
  "kernelspec": {
   "display_name": "Python 3 (ipykernel)",
   "language": "python",
   "name": "python3"
  },
  "language_info": {
   "codemirror_mode": {
    "name": "ipython",
    "version": 3
   },
   "file_extension": ".py",
   "mimetype": "text/x-python",
   "name": "python",
   "nbconvert_exporter": "python",
   "pygments_lexer": "ipython3",
   "version": "3.9.7"
  }
 },
 "nbformat": 4,
 "nbformat_minor": 4
}
