{
 "cells": [
  {
   "cell_type": "code",
   "execution_count": 1,
   "metadata": {
    "collapsed": true,
    "pycharm": {
     "name": "#%%\n"
    }
   },
   "outputs": [],
   "source": [
    "import tensorflow.keras as keras\n",
    "import pandas as pd\n",
    "\n",
    "# Load in our data from CSV files\n",
    "train_df = pd.read_csv(\"C:/Users/MSI/Desktop/DL/Datasets/asl/sign_mnist_train/sign_mnist_train.csv\")\n",
    "valid_df = pd.read_csv(\"C:/Users/MSI/Desktop/DL/Datasets/asl/sign_mnist_test/sign_mnist_valid.csv\")\n",
    "\n",
    "# Separate out our target values\n",
    "y_train = train_df['label']\n",
    "y_valid = valid_df['label']\n",
    "del train_df['label']\n",
    "del valid_df['label']\n",
    "\n",
    "# Separate out our image vectors\n",
    "x_train = train_df.values\n",
    "x_valid = valid_df.values\n",
    "\n",
    "# Turn our scalar targets into binary categories\n",
    "num_classes = 24\n",
    "y_train = keras.utils.to_categorical(y_train, num_classes)\n",
    "y_valid = keras.utils.to_categorical(y_valid, num_classes)\n",
    "\n",
    "# Normalize our image data\n",
    "x_train = x_train / 255\n",
    "x_valid = x_valid / 255"
   ]
  },
  {
   "cell_type": "code",
   "execution_count": 2,
   "outputs": [],
   "source": [
    "x_train = x_train.reshape(-1,28,28,1)\n",
    "x_valid = x_valid.reshape(-1,28,28,1)"
   ],
   "metadata": {
    "collapsed": false,
    "pycharm": {
     "name": "#%%\n"
    }
   }
  },
  {
   "cell_type": "code",
   "execution_count": 3,
   "outputs": [],
   "source": [
    "from tensorflow.keras.models import Sequential\n",
    "from tensorflow.keras.layers import (\n",
    "    Dense,\n",
    "    Conv2D,\n",
    "    MaxPool2D,\n",
    "    Flatten,\n",
    "    Dropout,\n",
    "    BatchNormalization,\n",
    ")\n",
    "\n",
    "model = Sequential()\n",
    "model.add(Conv2D(75, (3, 3), strides=1, padding=\"same\", activation=\"relu\",\n",
    "                 input_shape=(28, 28, 1)))\n",
    "model.add(BatchNormalization())\n",
    "model.add(MaxPool2D((2, 2), strides=2, padding=\"same\"))\n",
    "model.add(Conv2D(50, (3, 3), strides=1, padding=\"same\", activation=\"relu\"))\n",
    "model.add(Dropout(0.2))\n",
    "model.add(BatchNormalization())\n",
    "model.add(MaxPool2D((2, 2), strides=2, padding=\"same\"))\n",
    "model.add(Conv2D(25, (3, 3), strides=1, padding=\"same\", activation=\"relu\"))\n",
    "model.add(BatchNormalization())\n",
    "model.add(MaxPool2D((2, 2), strides=2, padding=\"same\"))\n",
    "model.add(Flatten())\n",
    "model.add(Dense(units=512, activation=\"relu\"))\n",
    "model.add(Dropout(0.3))\n",
    "model.add(Dense(units=num_classes, activation=\"softmax\"))"
   ],
   "metadata": {
    "collapsed": false,
    "pycharm": {
     "name": "#%%\n"
    }
   }
  },
  {
   "cell_type": "code",
   "execution_count": 4,
   "outputs": [
    {
     "name": "stdout",
     "output_type": "stream",
     "text": [
      "Model: \"sequential\"\n",
      "_________________________________________________________________\n",
      "Layer (type)                 Output Shape              Param #   \n",
      "=================================================================\n",
      "conv2d (Conv2D)              (None, 28, 28, 75)        750       \n",
      "_________________________________________________________________\n",
      "batch_normalization (BatchNo (None, 28, 28, 75)        300       \n",
      "_________________________________________________________________\n",
      "max_pooling2d (MaxPooling2D) (None, 14, 14, 75)        0         \n",
      "_________________________________________________________________\n",
      "conv2d_1 (Conv2D)            (None, 14, 14, 50)        33800     \n",
      "_________________________________________________________________\n",
      "dropout (Dropout)            (None, 14, 14, 50)        0         \n",
      "_________________________________________________________________\n",
      "batch_normalization_1 (Batch (None, 14, 14, 50)        200       \n",
      "_________________________________________________________________\n",
      "max_pooling2d_1 (MaxPooling2 (None, 7, 7, 50)          0         \n",
      "_________________________________________________________________\n",
      "conv2d_2 (Conv2D)            (None, 7, 7, 25)          11275     \n",
      "_________________________________________________________________\n",
      "batch_normalization_2 (Batch (None, 7, 7, 25)          100       \n",
      "_________________________________________________________________\n",
      "max_pooling2d_2 (MaxPooling2 (None, 4, 4, 25)          0         \n",
      "_________________________________________________________________\n",
      "flatten (Flatten)            (None, 400)               0         \n",
      "_________________________________________________________________\n",
      "dense (Dense)                (None, 512)               205312    \n",
      "_________________________________________________________________\n",
      "dropout_1 (Dropout)          (None, 512)               0         \n",
      "_________________________________________________________________\n",
      "dense_1 (Dense)              (None, 24)                12312     \n",
      "=================================================================\n",
      "Total params: 264,049\n",
      "Trainable params: 263,749\n",
      "Non-trainable params: 300\n",
      "_________________________________________________________________\n"
     ]
    }
   ],
   "source": [
    "model.summary()"
   ],
   "metadata": {
    "collapsed": false,
    "pycharm": {
     "name": "#%%\n"
    }
   }
  },
  {
   "cell_type": "code",
   "execution_count": 5,
   "outputs": [],
   "source": [
    "model.compile(loss=\"categorical_crossentropy\", metrics=[\"accuracy\"])"
   ],
   "metadata": {
    "collapsed": false,
    "pycharm": {
     "name": "#%%\n"
    }
   }
  },
  {
   "cell_type": "code",
   "execution_count": 6,
   "outputs": [
    {
     "name": "stdout",
     "output_type": "stream",
     "text": [
      "Epoch 1/20\n",
      "858/858 [==============================] - 16s 12ms/step - loss: 0.3288 - accuracy: 0.8971 - val_loss: 0.3386 - val_accuracy: 0.8763\n",
      "Epoch 2/20\n",
      "858/858 [==============================] - 9s 11ms/step - loss: 0.0235 - accuracy: 0.9930 - val_loss: 0.1530 - val_accuracy: 0.9508\n",
      "Epoch 3/20\n",
      "858/858 [==============================] - 9s 10ms/step - loss: 0.0121 - accuracy: 0.9960 - val_loss: 0.2677 - val_accuracy: 0.9374\n",
      "Epoch 4/20\n",
      "858/858 [==============================] - 9s 11ms/step - loss: 0.0108 - accuracy: 0.9973 - val_loss: 0.1281 - val_accuracy: 0.9643\n",
      "Epoch 5/20\n",
      "858/858 [==============================] - 9s 10ms/step - loss: 0.0072 - accuracy: 0.9976 - val_loss: 0.2551 - val_accuracy: 0.9483\n",
      "Epoch 6/20\n",
      "858/858 [==============================] - 9s 11ms/step - loss: 0.0060 - accuracy: 0.9983 - val_loss: 0.3188 - val_accuracy: 0.9370\n",
      "Epoch 7/20\n",
      "858/858 [==============================] - 9s 11ms/step - loss: 0.0039 - accuracy: 0.9992 - val_loss: 0.2090 - val_accuracy: 0.9598\n",
      "Epoch 8/20\n",
      "858/858 [==============================] - 9s 11ms/step - loss: 0.0025 - accuracy: 0.9991 - val_loss: 0.4456 - val_accuracy: 0.9317\n",
      "Epoch 9/20\n",
      "858/858 [==============================] - 9s 11ms/step - loss: 0.0036 - accuracy: 0.9991 - val_loss: 0.1913 - val_accuracy: 0.9682\n",
      "Epoch 10/20\n",
      "858/858 [==============================] - 9s 11ms/step - loss: 0.0023 - accuracy: 0.9994 - val_loss: 0.1907 - val_accuracy: 0.9587\n",
      "Epoch 11/20\n",
      "858/858 [==============================] - 9s 11ms/step - loss: 0.0034 - accuracy: 0.9991 - val_loss: 0.2442 - val_accuracy: 0.9600\n",
      "Epoch 12/20\n",
      "858/858 [==============================] - 9s 11ms/step - loss: 0.0035 - accuracy: 0.9992 - val_loss: 0.2586 - val_accuracy: 0.9706\n",
      "Epoch 13/20\n",
      "858/858 [==============================] - 9s 11ms/step - loss: 0.0014 - accuracy: 0.9996 - val_loss: 0.4462 - val_accuracy: 0.9387\n",
      "Epoch 14/20\n",
      "858/858 [==============================] - 9s 11ms/step - loss: 0.0024 - accuracy: 0.9994 - val_loss: 0.5111 - val_accuracy: 0.9265\n",
      "Epoch 15/20\n",
      "858/858 [==============================] - 9s 11ms/step - loss: 0.0012 - accuracy: 0.9997 - val_loss: 0.2755 - val_accuracy: 0.9671\n",
      "Epoch 16/20\n",
      "858/858 [==============================] - 9s 11ms/step - loss: 0.0015 - accuracy: 0.9995 - val_loss: 0.2978 - val_accuracy: 0.9511\n",
      "Epoch 17/20\n",
      "858/858 [==============================] - 9s 11ms/step - loss: 0.0015 - accuracy: 0.9996 - val_loss: 0.2641 - val_accuracy: 0.9639\n",
      "Epoch 18/20\n",
      "858/858 [==============================] - 9s 11ms/step - loss: 0.0015 - accuracy: 0.9996 - val_loss: 0.3033 - val_accuracy: 0.9633\n",
      "Epoch 19/20\n",
      "858/858 [==============================] - 9s 11ms/step - loss: 3.8637e-04 - accuracy: 0.9998 - val_loss: 0.2421 - val_accuracy: 0.9618\n",
      "Epoch 20/20\n",
      "858/858 [==============================] - 9s 11ms/step - loss: 7.8317e-04 - accuracy: 0.9998 - val_loss: 0.2241 - val_accuracy: 0.9660\n"
     ]
    },
    {
     "data": {
      "text/plain": "<tensorflow.python.keras.callbacks.History at 0x14a9127b2b0>"
     },
     "execution_count": 6,
     "metadata": {},
     "output_type": "execute_result"
    }
   ],
   "source": [
    "model.fit(x_train, y_train, epochs=20, verbose=1, validation_data=(x_valid, y_valid))"
   ],
   "metadata": {
    "collapsed": false,
    "pycharm": {
     "name": "#%%\n"
    }
   }
  },
  {
   "cell_type": "code",
   "execution_count": null,
   "outputs": [],
   "source": [],
   "metadata": {
    "collapsed": false,
    "pycharm": {
     "name": "#%%\n"
    }
   }
  }
 ],
 "metadata": {
  "kernelspec": {
   "display_name": "Python 3",
   "language": "python",
   "name": "python3"
  },
  "language_info": {
   "codemirror_mode": {
    "name": "ipython",
    "version": 2
   },
   "file_extension": ".py",
   "mimetype": "text/x-python",
   "name": "python",
   "nbconvert_exporter": "python",
   "pygments_lexer": "ipython2",
   "version": "2.7.6"
  }
 },
 "nbformat": 4,
 "nbformat_minor": 0
}