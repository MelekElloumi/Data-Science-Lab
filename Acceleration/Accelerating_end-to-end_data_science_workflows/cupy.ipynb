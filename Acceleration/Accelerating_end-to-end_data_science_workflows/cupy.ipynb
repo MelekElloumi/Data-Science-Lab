{
 "cells": [
  {
   "cell_type": "code",
   "execution_count": null,
   "metadata": {
    "collapsed": true,
    "pycharm": {
     "name": "#%%\n"
    }
   },
   "outputs": [],
   "source": [
    "import cudf\n",
    "\n",
    "import numpy as np\n",
    "import cupy as cp\n",
    "%time gdf = cudf.read_csv('./data/pop_1-05.csv', dtype=['float32', 'str', 'str', 'float32', 'float32', 'str'])"
   ]
  },
  {
   "cell_type": "code",
   "execution_count": null,
   "outputs": [],
   "source": [
    "phi0 =cp.pi\n",
    "sinlat = cp.sin(lat)\n",
    "coslat = cp.cos(lat)\n",
    "tanlat = cp.tan(lat)\n",
    "coord_lat = cp.random.normal(54, 1, 10000000)\n",
    "cupy_lat = cp.asarray(gdf['lat'])"
   ],
   "metadata": {
    "collapsed": false,
    "pycharm": {
     "name": "#%%\n"
    }
   }
  }
 ],
 "metadata": {
  "kernelspec": {
   "display_name": "Python 3",
   "language": "python",
   "name": "python3"
  },
  "language_info": {
   "codemirror_mode": {
    "name": "ipython",
    "version": 2
   },
   "file_extension": ".py",
   "mimetype": "text/x-python",
   "name": "python",
   "nbconvert_exporter": "python",
   "pygments_lexer": "ipython2",
   "version": "2.7.6"
  }
 },
 "nbformat": 4,
 "nbformat_minor": 0
}