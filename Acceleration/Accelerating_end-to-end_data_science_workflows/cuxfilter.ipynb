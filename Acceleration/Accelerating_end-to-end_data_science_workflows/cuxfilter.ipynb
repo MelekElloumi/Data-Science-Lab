{
 "cells": [
  {
   "cell_type": "markdown",
   "source": [
    "# Visualisation"
   ],
   "metadata": {
    "collapsed": false,
    "pycharm": {
     "name": "#%% md\n"
    }
   }
  },
  {
   "cell_type": "code",
   "execution_count": null,
   "outputs": [],
   "source": [
    "import cudf\n",
    "\n",
    "import cuxfilter as cxf"
   ],
   "metadata": {
    "collapsed": false,
    "pycharm": {
     "name": "#%%\n"
    }
   }
  },
  {
   "cell_type": "code",
   "execution_count": null,
   "outputs": [],
   "source": [
    "cxf_data = cxf.DataFrame.from_dataframe(gdf)"
   ],
   "metadata": {
    "collapsed": false,
    "pycharm": {
     "name": "#%%\n"
    }
   }
  },
  {
   "cell_type": "code",
   "execution_count": null,
   "outputs": [],
   "source": [
    "chart_width = 600\n",
    "scatter_chart = cxf.charts.datashader.scatter(x='easting', y='northing',\n",
    "                                              width=chart_width,\n",
    "                                              height=int((gdf['northing'].max() - gdf['northing'].min()) /\n",
    "                                                         (gdf['easting'].max() - gdf['easting'].min()) *\n",
    "                                                          chart_width))\n",
    "\n",
    "county_widget = cxf.charts.panel_widgets.multi_select('county', label_map=county_map)"
   ],
   "metadata": {
    "collapsed": false,
    "pycharm": {
     "name": "#%%\n"
    }
   }
  },
  {
   "cell_type": "code",
   "execution_count": null,
   "outputs": [],
   "source": [
    "dash = cxf_data.dashboard([scatter_chart, county_widget], theme=cxf.themes.dark, data_size_widget=True)\n",
    "scatter_chart.view()"
   ],
   "metadata": {
    "collapsed": false,
    "pycharm": {
     "name": "#%%\n"
    }
   }
  },
  {
   "cell_type": "code",
   "execution_count": null,
   "outputs": [],
   "source": [
    "%%js\n",
    "var host = window.location.host;\n",
    "element.innerText = \"'\"+host+\"'\";\n",
    "my_url = 'ec2-3-86-77-182.compute-1.amazonaws.com'\n",
    "dash.show(my_url, port=8789)\n",
    "%%js\n",
    "var host = window.location.host;\n",
    "var url = 'http://'+host+'/lab/proxy/8789/';\n",
    "element.innerHTML = '<a style=\"color:blue;\" target=\"_blank\" href='+url+'>Open Dashboard</a>';"
   ],
   "metadata": {
    "collapsed": false,
    "pycharm": {
     "name": "#%%\n"
    }
   }
  },
  {
   "cell_type": "code",
   "execution_count": null,
   "outputs": [],
   "source": [
    "dash.stop()"
   ],
   "metadata": {
    "collapsed": false,
    "pycharm": {
     "name": "#%%\n"
    }
   }
  }
 ],
 "metadata": {
  "kernelspec": {
   "display_name": "Python 3",
   "language": "python",
   "name": "python3"
  },
  "language_info": {
   "codemirror_mode": {
    "name": "ipython",
    "version": 2
   },
   "file_extension": ".py",
   "mimetype": "text/x-python",
   "name": "python",
   "nbconvert_exporter": "python",
   "pygments_lexer": "ipython2",
   "version": "2.7.6"
  }
 },
 "nbformat": 4,
 "nbformat_minor": 0
}