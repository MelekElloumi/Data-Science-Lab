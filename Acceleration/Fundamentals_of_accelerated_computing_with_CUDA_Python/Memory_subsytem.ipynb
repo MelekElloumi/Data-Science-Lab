{
 "cells": [
  {
   "cell_type": "code",
   "execution_count": null,
   "outputs": [],
   "source": [
    "@cuda.jit\n",
    "def add_experiment(a, b, out, stride, coalesced):\n",
    "    i = cuda.grid(1)\n",
    "    # The above line is equivalent to\n",
    "    # i = cuda.blockIdx.x * cuda.blockDim.x + cuda.threadIdx.x\n",
    "    if coalesced == True:\n",
    "        out[i] = a[i] + b[i]\n",
    "    else:\n",
    "        out[i] = a[stride*i] + b[stride*i]"
   ],
   "metadata": {
    "collapsed": false,
    "pycharm": {
     "name": "#%%\n"
    }
   }
  },
  {
   "cell_type": "code",
   "execution_count": null,
   "outputs": [],
   "source": [
    "@cuda.jit\n",
    "def row_sums(a, sums, n):\n",
    "    idx = cuda.grid(1)\n",
    "    sum = 0.0\n",
    "\n",
    "    for i in range(n):\n",
    "        sum += a[idx][i]\n",
    "\n",
    "    sums[idx] = sum\n",
    "@cuda.jit\n",
    "def col_sums(a, sums, ds):\n",
    "    idx = cuda.grid(1)\n",
    "    sum = 0.0\n",
    "\n",
    "    for i in range(n):\n",
    "        sum += a[i][idx]\n",
    "\n",
    "    sums[idx] = sum"
   ],
   "metadata": {
    "collapsed": false,
    "pycharm": {
     "name": "#%%\n"
    }
   }
  },
  {
   "cell_type": "code",
   "execution_count": null,
   "outputs": [],
   "source": [
    "A = np.zeros((4,4))\n",
    "d_A = cuda.to_device(A)\n",
    "\n",
    "blocks = (2, 2)\n",
    "threads_per_block = (2, 2)\n",
    "@cuda.jit\n",
    "def get_2D_indices(A):\n",
    "\n",
    "    x, y = cuda.grid(2)\n",
    "\n",
    "    A[x][y] = x + y / 10"
   ],
   "metadata": {
    "collapsed": false,
    "pycharm": {
     "name": "#%%\n"
    }
   }
  },
  {
   "cell_type": "code",
   "execution_count": null,
   "outputs": [],
   "source": [
    "@cuda.jit\n",
    "def swap_with_shared(vector, swapped):\n",
    "\n",
    "    temp = cuda.shared.array(4, dtype=types.int32)\n",
    "\n",
    "    idx = cuda.grid(1)\n",
    "\n",
    "\n",
    "    temp[idx] = vector[idx]\n",
    "\n",
    "    cuda.syncthreads()\n",
    "\n",
    "    swapped[idx] = temp[3 - cuda.threadIdx.x]"
   ],
   "metadata": {
    "collapsed": false,
    "pycharm": {
     "name": "#%%\n"
    }
   }
  },
  {
   "cell_type": "code",
   "execution_count": null,
   "outputs": [],
   "source": [
    "@cuda.jit\n",
    "def tile_transpose(a, transposed):\n",
    "\n",
    "    tile = cuda.shared.array((32, 33), numba_types.float32)\n",
    "\n",
    "    a_col = cuda.blockIdx.x * cuda.blockDim.x + cuda.threadIdx.x\n",
    "    a_row = cuda.blockIdx.y * cuda.blockDim.y + cuda.threadIdx.y\n",
    "\n",
    "    tile[cuda.threadIdx.y, cuda.threadIdx.x] = a[a_row, a_col]\n",
    "\n",
    "    cuda.syncthreads()\n",
    "\n",
    "    t_col = cuda.blockIdx.y * cuda.blockDim.y + cuda.threadIdx.x\n",
    "    t_row = cuda.blockIdx.x * cuda.blockDim.x + cuda.threadIdx.y\n",
    "\n",
    "    transposed[t_row, t_col] = tile[cuda.threadIdx.x, cuda.threadIdx.y]"
   ],
   "metadata": {
    "collapsed": false,
    "pycharm": {
     "name": "#%%\n"
    }
   }
  },
  {
   "cell_type": "code",
   "execution_count": null,
   "outputs": [],
   "source": [],
   "metadata": {
    "collapsed": false,
    "pycharm": {
     "name": "#%%\n"
    }
   }
  }
 ],
 "metadata": {
  "kernelspec": {
   "display_name": "Python 3",
   "language": "python",
   "name": "python3"
  },
  "language_info": {
   "codemirror_mode": {
    "name": "ipython",
    "version": 2
   },
   "file_extension": ".py",
   "mimetype": "text/x-python",
   "name": "python",
   "nbconvert_exporter": "python",
   "pygments_lexer": "ipython2",
   "version": "2.7.6"
  }
 },
 "nbformat": 4,
 "nbformat_minor": 0
}